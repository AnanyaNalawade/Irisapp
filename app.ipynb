{
 "cells": [
  {
   "cell_type": "code",
   "execution_count": 1,
   "id": "70f5d353-cb66-45f2-aa75-597e33e4f2a6",
   "metadata": {},
   "outputs": [
    {
     "name": "stderr",
     "output_type": "stream",
     "text": [
      "2024-07-16 18:43:04.870 \n",
      "  \u001b[33m\u001b[1mWarning:\u001b[0m to view this Streamlit app on a browser, run it with the following\n",
      "  command:\n",
      "\n",
      "    streamlit run C:\\Users\\ADMIN\\PycharmProjects\\housreprice\\venv\\Lib\\site-packages\\ipykernel_launcher.py [ARGUMENTS]\n",
      "2024-07-16 18:43:04.872 Session state does not function when running a script without `streamlit run`\n"
     ]
    }
   ],
   "source": [
    "import pandas as pd \n",
    "import numpy as np \n",
    "import pickle \n",
    "import streamlit as st \n",
    "from PIL import Image \n",
    "  \n",
    "# loading in the model to predict on the data \n",
    "pickle_in = open('classifier.pkl', 'rb') \n",
    "classifier = pickle.load(pickle_in) \n",
    "  \n",
    "def welcome(): \n",
    "    return 'welcome all'\n",
    "  \n",
    "# defining the function which will make the prediction using  \n",
    "# the data which the user inputs \n",
    "def prediction(sepal_length, sepal_width, petal_length, petal_width):   \n",
    "   \n",
    "    prediction = classifier.predict( \n",
    "        [[sepal_length, sepal_width, petal_length, petal_width]]) \n",
    "    print(prediction) \n",
    "    return prediction \n",
    "      \n",
    "  \n",
    "# this is the main function in which we define our webpage  \n",
    "def main(): \n",
    "      # giving the webpage a title \n",
    "    st.title(\"Iris Flower Prediction\") \n",
    "      \n",
    "    # here we define some of the front end elements of the web page like  \n",
    "    # the font and background color, the padding and the text to be displayed \n",
    "    html_temp = \"\"\" \n",
    "    <div style =\"background-color:yellow;padding:13px\"> \n",
    "    <h1 style =\"color:black;text-align:center;\">Streamlit Iris Flower Classifier ML App </h1> \n",
    "    </div> \n",
    "    \"\"\"\n",
    "      \n",
    "    # this line allows us to display the front end aspects we have  \n",
    "    # defined in the above code \n",
    "    st.markdown(html_temp, unsafe_allow_html = True) \n",
    "      \n",
    "    # the following lines create text boxes in which the user can enter  \n",
    "    # the data required to make the prediction \n",
    "    sepal_length = st.text_input(\"Sepal Length\", \"Type Here\") \n",
    "    sepal_width = st.text_input(\"Sepal Width\", \"Type Here\") \n",
    "    petal_length = st.text_input(\"Petal Length\", \"Type Here\") \n",
    "    petal_width = st.text_input(\"Petal Width\", \"Type Here\") \n",
    "    result =\"\" \n",
    "      \n",
    "    # the below line ensures that when the button called 'Predict' is clicked,  \n",
    "    # the prediction function defined above is called to make the prediction  \n",
    "    # and store it in the variable result \n",
    "    if st.button(\"Predict\"): \n",
    "        result = prediction(sepal_length, sepal_width, petal_length, petal_width) \n",
    "    st.success('The output is {}'.format(result)) \n",
    "     \n",
    "if __name__=='__main__': \n",
    "    main() "
   ]
  },
  {
   "cell_type": "code",
   "execution_count": null,
   "id": "9f022f2e-8e4a-43b3-b834-e8a5071701cf",
   "metadata": {},
   "outputs": [],
   "source": []
  }
 ],
 "metadata": {
  "kernelspec": {
   "display_name": "Python 3 (ipykernel)",
   "language": "python",
   "name": "python3"
  },
  "language_info": {
   "codemirror_mode": {
    "name": "ipython",
    "version": 3
   },
   "file_extension": ".py",
   "mimetype": "text/x-python",
   "name": "python",
   "nbconvert_exporter": "python",
   "pygments_lexer": "ipython3",
   "version": "3.11.5"
  }
 },
 "nbformat": 4,
 "nbformat_minor": 5
}
